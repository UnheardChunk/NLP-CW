{
 "cells": [
  {
   "cell_type": "code",
   "execution_count": 31,
   "metadata": {},
   "outputs": [],
   "source": [
    "import pandas as pd\n",
    "from sklearn.model_selection import train_test_split"
   ]
  },
  {
   "cell_type": "code",
   "execution_count": 19,
   "metadata": {},
   "outputs": [
    {
     "data": {
      "text/html": [
       "<div>\n",
       "<style scoped>\n",
       "    .dataframe tbody tr th:only-of-type {\n",
       "        vertical-align: middle;\n",
       "    }\n",
       "\n",
       "    .dataframe tbody tr th {\n",
       "        vertical-align: top;\n",
       "    }\n",
       "\n",
       "    .dataframe thead th {\n",
       "        text-align: right;\n",
       "    }\n",
       "</style>\n",
       "<table border=\"1\" class=\"dataframe\">\n",
       "  <thead>\n",
       "    <tr style=\"text-align: right;\">\n",
       "      <th></th>\n",
       "      <th>par_id</th>\n",
       "      <th>art_id</th>\n",
       "      <th>keyword</th>\n",
       "      <th>country</th>\n",
       "      <th>text</th>\n",
       "      <th>orig_label</th>\n",
       "    </tr>\n",
       "  </thead>\n",
       "  <tbody>\n",
       "    <tr>\n",
       "      <th>0</th>\n",
       "      <td>1</td>\n",
       "      <td>@@24942188</td>\n",
       "      <td>hopeless</td>\n",
       "      <td>ph</td>\n",
       "      <td>We 're living in times of absolute insanity , ...</td>\n",
       "      <td>0</td>\n",
       "    </tr>\n",
       "    <tr>\n",
       "      <th>1</th>\n",
       "      <td>2</td>\n",
       "      <td>@@21968160</td>\n",
       "      <td>migrant</td>\n",
       "      <td>gh</td>\n",
       "      <td>In Libya today , there are countless number of...</td>\n",
       "      <td>0</td>\n",
       "    </tr>\n",
       "    <tr>\n",
       "      <th>2</th>\n",
       "      <td>3</td>\n",
       "      <td>@@16584954</td>\n",
       "      <td>immigrant</td>\n",
       "      <td>ie</td>\n",
       "      <td>White House press secretary Sean Spicer said t...</td>\n",
       "      <td>0</td>\n",
       "    </tr>\n",
       "    <tr>\n",
       "      <th>3</th>\n",
       "      <td>4</td>\n",
       "      <td>@@7811231</td>\n",
       "      <td>disabled</td>\n",
       "      <td>nz</td>\n",
       "      <td>Council customers only signs would be displaye...</td>\n",
       "      <td>0</td>\n",
       "    </tr>\n",
       "    <tr>\n",
       "      <th>4</th>\n",
       "      <td>5</td>\n",
       "      <td>@@1494111</td>\n",
       "      <td>refugee</td>\n",
       "      <td>ca</td>\n",
       "      <td>\" Just like we received migrants fleeing El Sa...</td>\n",
       "      <td>0</td>\n",
       "    </tr>\n",
       "  </tbody>\n",
       "</table>\n",
       "</div>"
      ],
      "text/plain": [
       "   par_id      art_id    keyword country  \\\n",
       "0       1  @@24942188   hopeless      ph   \n",
       "1       2  @@21968160    migrant      gh   \n",
       "2       3  @@16584954  immigrant      ie   \n",
       "3       4   @@7811231   disabled      nz   \n",
       "4       5   @@1494111    refugee      ca   \n",
       "\n",
       "                                                text  orig_label  \n",
       "0  We 're living in times of absolute insanity , ...           0  \n",
       "1  In Libya today , there are countless number of...           0  \n",
       "2  White House press secretary Sean Spicer said t...           0  \n",
       "3  Council customers only signs would be displaye...           0  \n",
       "4  \" Just like we received migrants fleeing El Sa...           0  "
      ]
     },
     "execution_count": 19,
     "metadata": {},
     "output_type": "execute_result"
    }
   ],
   "source": [
    "dataset_path = \"../dataset/dontpatronizeme_pcl.tsv\"\n",
    "\n",
    "dataset = pd.read_csv(dataset_path, sep=\"\\t\", skiprows=4, names=['par_id', 'art_id', 'keyword', 'country', 'text', 'orig_label'])\n",
    "dataset.head()"
   ]
  },
  {
   "cell_type": "code",
   "execution_count": 49,
   "metadata": {},
   "outputs": [],
   "source": [
    "# train dataset\n",
    "\n",
    "train_labels_path = \"../dataset/original_datasets/train_semeval_parids-labels.csv\"\n",
    "\n",
    "train_labels = pd.read_csv(train_labels_path)\n",
    "\n",
    "train_labels_list = train_labels['par_id'].tolist()\n"
   ]
  },
  {
   "cell_type": "code",
   "execution_count": 50,
   "metadata": {},
   "outputs": [],
   "source": [
    "# dev dataset\n",
    "dev_labels_path = \"../dataset/original_datasets/dev_semeval_parids-labels.csv\"\n",
    "\n",
    "dev_labels = pd.read_csv(dev_labels_path)\n",
    "dev_labels_list = dev_labels['par_id'].tolist()"
   ]
  },
  {
   "cell_type": "code",
   "execution_count": 51,
   "metadata": {},
   "outputs": [
    {
     "name": "stdout",
     "output_type": "stream",
     "text": [
      "Test dataset saved successfully!\n"
     ]
    }
   ],
   "source": [
    "# Filter the dataset to only include rows with the specified IDs\n",
    "filtered_dev_df = dataset[dataset['par_id'].isin(dev_labels_list)]\n",
    "\n",
    "# Save the new dataset to a CSV file\n",
    "filtered_dev_df.to_csv(\"dpm_pcl_test.csv\", index=False)\n",
    "print(\"Test dataset saved successfully!\")"
   ]
  },
  {
   "cell_type": "code",
   "execution_count": 46,
   "metadata": {},
   "outputs": [
    {
     "name": "stdout",
     "output_type": "stream",
     "text": [
      "Train and validation datasets saved successfully!\n"
     ]
    }
   ],
   "source": [
    "# Filter the dataset to only include rows with the specified IDs\n",
    "filtered_train_df = dataset[dataset['par_id'].isin(train_labels_list)]\n",
    "\n",
    "# Split into 80% train and 20% validation\n",
    "train_df, val_df = train_test_split(filtered_train_df, test_size=0.2, random_state=42)\n",
    "\n",
    "# Save the train and validation datasets to CSV files\n",
    "train_df.to_csv(\"dpm_pcl_train.csv\", index=False)\n",
    "val_df.to_csv(\"dpm_pcl_val.csv\", index=False)\n",
    "\n",
    "print(\"Train and validation datasets saved successfully!\")\n"
   ]
  },
  {
   "cell_type": "code",
   "execution_count": 47,
   "metadata": {},
   "outputs": [],
   "source": [
    "assert len(train_df) == len(train_labels_list) * 0.8\n",
    "assert len(val_df) == len(train_labels_list) * 0.2\n",
    "assert len(filtered_dev_df) == len(dev_labels_list)\n",
    "assert len(train_df) + len(val_df) + len(filtered_dev_df) == len(dataset)"
   ]
  }
 ],
 "metadata": {
  "kernelspec": {
   "display_name": "Python 3 (ipykernel)",
   "language": "python",
   "name": "python3"
  },
  "language_info": {
   "codemirror_mode": {
    "name": "ipython",
    "version": 3
   },
   "file_extension": ".py",
   "mimetype": "text/x-python",
   "name": "python",
   "nbconvert_exporter": "python",
   "pygments_lexer": "ipython3",
   "version": "3.12.3"
  }
 },
 "nbformat": 4,
 "nbformat_minor": 4
}
