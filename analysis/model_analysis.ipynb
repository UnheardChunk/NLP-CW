{
 "cells": [
  {
   "cell_type": "code",
   "execution_count": 68,
   "id": "2c2100fb-7ad3-44ca-abbb-561f7e839a9e",
   "metadata": {},
   "outputs": [],
   "source": [
    "# Import the libraries\n",
    "import evaluate\n",
    "import matplotlib.pyplot as plt\n",
    "import numpy as np\n",
    "import pandas as pd\n",
    "import torch\n",
    "\n",
    "from torch.utils.data import DataLoader\n",
    "from datasets import Dataset\n",
    "from transformers import AutoTokenizer, DataCollatorWithPadding, AutoModelForSequenceClassification\n",
    "from sklearn.metrics import classification_report, accuracy_score\n",
    "import seaborn as sns\n",
    "\n",
    "import torch.nn.functional as F\n",
    "from tqdm import tqdm"
   ]
  },
  {
   "cell_type": "code",
   "execution_count": 69,
   "id": "2ebd6c64-514a-476d-9fb2-6363a3675642",
   "metadata": {},
   "outputs": [],
   "source": [
    "# Which pre-trained model to use.\n",
    "checkpoint = \"microsoft/deberta-v3-small\"     "
   ]
  },
  {
   "cell_type": "code",
   "execution_count": 70,
   "id": "97232784-f79d-4d55-b233-d24b5ac5e10b",
   "metadata": {},
   "outputs": [
    {
     "name": "stdout",
     "output_type": "stream",
     "text": [
      "cuda\n"
     ]
    }
   ],
   "source": [
    "# Checking whether you are running on CPU or GPU.\n",
    "# If the output here says \"cuda\" then it's running on GPU. Otherwise it's probably CPU.\n",
    "# In order to run your code in Colab on the GPU, go to Edit -> Notebook settings -> Hardware accelerator and set it to \"GPU\".\n",
    "device = torch.device(\"cuda\") if torch.cuda.is_available() else torch.device(\"cpu\")\n",
    "print(device)"
   ]
  },
  {
   "cell_type": "code",
   "execution_count": 71,
   "id": "1e5943db-8de2-4ec0-82f5-836bc6b9f254",
   "metadata": {},
   "outputs": [
    {
     "data": {
      "text/html": [
       "<div>\n",
       "<style scoped>\n",
       "    .dataframe tbody tr th:only-of-type {\n",
       "        vertical-align: middle;\n",
       "    }\n",
       "\n",
       "    .dataframe tbody tr th {\n",
       "        vertical-align: top;\n",
       "    }\n",
       "\n",
       "    .dataframe thead th {\n",
       "        text-align: right;\n",
       "    }\n",
       "</style>\n",
       "<table border=\"1\" class=\"dataframe\">\n",
       "  <thead>\n",
       "    <tr style=\"text-align: right;\">\n",
       "      <th></th>\n",
       "      <th>par_id</th>\n",
       "      <th>art_id</th>\n",
       "      <th>keyword</th>\n",
       "      <th>country</th>\n",
       "      <th>text</th>\n",
       "      <th>orig_label</th>\n",
       "    </tr>\n",
       "  </thead>\n",
       "  <tbody>\n",
       "    <tr>\n",
       "      <th>0</th>\n",
       "      <td>107</td>\n",
       "      <td>@@16900972</td>\n",
       "      <td>homeless</td>\n",
       "      <td>ke</td>\n",
       "      <td>His present \" chambers \" may be quite humble ,...</td>\n",
       "      <td>3</td>\n",
       "    </tr>\n",
       "    <tr>\n",
       "      <th>1</th>\n",
       "      <td>149</td>\n",
       "      <td>@@1387882</td>\n",
       "      <td>disabled</td>\n",
       "      <td>us</td>\n",
       "      <td>Krueger recently harnessed that creativity to ...</td>\n",
       "      <td>2</td>\n",
       "    </tr>\n",
       "    <tr>\n",
       "      <th>2</th>\n",
       "      <td>151</td>\n",
       "      <td>@@19974860</td>\n",
       "      <td>poor-families</td>\n",
       "      <td>in</td>\n",
       "      <td>10:41am - Parents of children who died must ge...</td>\n",
       "      <td>3</td>\n",
       "    </tr>\n",
       "    <tr>\n",
       "      <th>3</th>\n",
       "      <td>154</td>\n",
       "      <td>@@20663936</td>\n",
       "      <td>disabled</td>\n",
       "      <td>ng</td>\n",
       "      <td>When some people feel causing problem for some...</td>\n",
       "      <td>4</td>\n",
       "    </tr>\n",
       "    <tr>\n",
       "      <th>4</th>\n",
       "      <td>157</td>\n",
       "      <td>@@21712008</td>\n",
       "      <td>poor-families</td>\n",
       "      <td>ca</td>\n",
       "      <td>We are alarmed to learn of your recently circu...</td>\n",
       "      <td>4</td>\n",
       "    </tr>\n",
       "  </tbody>\n",
       "</table>\n",
       "</div>"
      ],
      "text/plain": [
       "   par_id      art_id        keyword country  \\\n",
       "0     107  @@16900972       homeless      ke   \n",
       "1     149   @@1387882       disabled      us   \n",
       "2     151  @@19974860  poor-families      in   \n",
       "3     154  @@20663936       disabled      ng   \n",
       "4     157  @@21712008  poor-families      ca   \n",
       "\n",
       "                                                text  orig_label  \n",
       "0  His present \" chambers \" may be quite humble ,...           3  \n",
       "1  Krueger recently harnessed that creativity to ...           2  \n",
       "2  10:41am - Parents of children who died must ge...           3  \n",
       "3  When some people feel causing problem for some...           4  \n",
       "4  We are alarmed to learn of your recently circu...           4  "
      ]
     },
     "execution_count": 71,
     "metadata": {},
     "output_type": "execute_result"
    }
   ],
   "source": [
    "test_dataset_path =\"../dataset/dpm_pcl_test.csv\"\n",
    "test_dataset = pd.read_csv(test_dataset_path)\n",
    "\n",
    "test_dataset.head()"
   ]
  },
  {
   "cell_type": "code",
   "execution_count": 72,
   "id": "bde7aa6f-2e8d-4cfb-acdc-e7958a1b7e6f",
   "metadata": {},
   "outputs": [
    {
     "data": {
      "text/html": [
       "<div>\n",
       "<style scoped>\n",
       "    .dataframe tbody tr th:only-of-type {\n",
       "        vertical-align: middle;\n",
       "    }\n",
       "\n",
       "    .dataframe tbody tr th {\n",
       "        vertical-align: top;\n",
       "    }\n",
       "\n",
       "    .dataframe thead th {\n",
       "        text-align: right;\n",
       "    }\n",
       "</style>\n",
       "<table border=\"1\" class=\"dataframe\">\n",
       "  <thead>\n",
       "    <tr style=\"text-align: right;\">\n",
       "      <th></th>\n",
       "      <th>keyword</th>\n",
       "      <th>text</th>\n",
       "      <th>orig_label</th>\n",
       "      <th>label</th>\n",
       "    </tr>\n",
       "  </thead>\n",
       "  <tbody>\n",
       "    <tr>\n",
       "      <th>0</th>\n",
       "      <td>homeless</td>\n",
       "      <td>His present \" chambers \" may be quite humble ,...</td>\n",
       "      <td>3</td>\n",
       "      <td>1</td>\n",
       "    </tr>\n",
       "    <tr>\n",
       "      <th>1</th>\n",
       "      <td>disabled</td>\n",
       "      <td>Krueger recently harnessed that creativity to ...</td>\n",
       "      <td>2</td>\n",
       "      <td>1</td>\n",
       "    </tr>\n",
       "    <tr>\n",
       "      <th>2</th>\n",
       "      <td>poor-families</td>\n",
       "      <td>10:41am - Parents of children who died must ge...</td>\n",
       "      <td>3</td>\n",
       "      <td>1</td>\n",
       "    </tr>\n",
       "    <tr>\n",
       "      <th>3</th>\n",
       "      <td>disabled</td>\n",
       "      <td>When some people feel causing problem for some...</td>\n",
       "      <td>4</td>\n",
       "      <td>1</td>\n",
       "    </tr>\n",
       "    <tr>\n",
       "      <th>4</th>\n",
       "      <td>poor-families</td>\n",
       "      <td>We are alarmed to learn of your recently circu...</td>\n",
       "      <td>4</td>\n",
       "      <td>1</td>\n",
       "    </tr>\n",
       "  </tbody>\n",
       "</table>\n",
       "</div>"
      ],
      "text/plain": [
       "         keyword                                               text  \\\n",
       "0       homeless  His present \" chambers \" may be quite humble ,...   \n",
       "1       disabled  Krueger recently harnessed that creativity to ...   \n",
       "2  poor-families  10:41am - Parents of children who died must ge...   \n",
       "3       disabled  When some people feel causing problem for some...   \n",
       "4  poor-families  We are alarmed to learn of your recently circu...   \n",
       "\n",
       "   orig_label  label  \n",
       "0           3      1  \n",
       "1           2      1  \n",
       "2           3      1  \n",
       "3           4      1  \n",
       "4           4      1  "
      ]
     },
     "execution_count": 72,
     "metadata": {},
     "output_type": "execute_result"
    }
   ],
   "source": [
    "test_dataset[\"label\"] = test_dataset[\"orig_label\"].apply(lambda x : 0 if (x == 0 or x == 1) else 1)\n",
    "\n",
    "test_dataset.loc[test_dataset[\"text\"].isna(), \"text\"] = \"\"\n",
    "\n",
    "set_uncased = False\n",
    "if set_uncased:\n",
    "    test_dataset['text'] = test_dataset['text'].str.lower()\n",
    "\n",
    "#test_dataset = test_dataset.drop(['par_id', 'art_id', 'keyword', 'country', 'orig_label'], axis=1)\n",
    "test_dataset = test_dataset.drop(['par_id', 'art_id', 'country'], axis=1)\n",
    "\n",
    "test_dataset.head()"
   ]
  },
  {
   "cell_type": "code",
   "execution_count": 73,
   "id": "233cad3f-ccd3-45d5-bcb5-907c991be643",
   "metadata": {},
   "outputs": [
    {
     "name": "stderr",
     "output_type": "stream",
     "text": [
      "/vol/bitbucket/sg2121/nlp/NLP-CW/nlpenv/lib/python3.12/site-packages/transformers/convert_slow_tokenizer.py:561: UserWarning: The sentencepiece tokenizer that you are converting to a fast tokenizer uses the byte fallback option which is not implemented in the fast tokenizers. In practice this means that the fast version of the tokenizer can produce unknown tokens whereas the sentencepiece version would have converted these unknown tokens into a sequence of byte tokens matching the original piece of text.\n",
      "  warnings.warn(\n"
     ]
    },
    {
     "data": {
      "application/vnd.jupyter.widget-view+json": {
       "model_id": "762a15f60fae4d4fa2da8620be411664",
       "version_major": 2,
       "version_minor": 0
      },
      "text/plain": [
       "Map:   0%|          | 0/2094 [00:00<?, ? examples/s]"
      ]
     },
     "metadata": {},
     "output_type": "display_data"
    }
   ],
   "source": [
    "# Perform tokenization\n",
    "tokenizer = AutoTokenizer.from_pretrained(checkpoint, model_max_length=512)\n",
    "\n",
    "def tokenize_function(example):\n",
    "    return tokenizer(example[\"text\"], truncation=True, padding=\"max_length\", max_length=512)\n",
    "\n",
    "raw_datasets_test = Dataset.from_pandas(test_dataset[['text', 'label']])\n",
    "\n",
    "tokenized_datasets_test = raw_datasets_test.map(tokenize_function, batched=True, remove_columns=['text'])\n",
    "\n",
    "# DataCollatorWithPadding constructs batches that are padded to the length of the longest sentence in the batch\n",
    "data_collator = DataCollatorWithPadding(tokenizer=tokenizer)"
   ]
  },
  {
   "cell_type": "code",
   "execution_count": 74,
   "id": "469c2ccb-17d3-42c2-8e2e-7ebd7bcd539d",
   "metadata": {},
   "outputs": [],
   "source": [
    "# Load the model's state\n",
    "def load_model(model, filename):\n",
    "    model_dir = \"../models/saved_models/\"\n",
    "    saved_model = torch.load(model_dir + filename)\n",
    "    model.load_state_dict(saved_model[\"model_state_dict\"])\n",
    "\n",
    "# Load the model hyperparameters and losses\n",
    "def load_model_info(filename):\n",
    "    model_dir = \"../models/saved_losses/\"\n",
    "    with open(model_dir + filename, \"rb\") as f:\n",
    "        info = pickle.load(f)\n",
    "        \n",
    "    return info[\"train_losses\"], info[\"val_losses\"], info[\"hyperparams\"]\n",
    "\n",
    "# This method will allow us to evaluate the model on the provided dataset\n",
    "def evaluate_and_save_results(model, eval_dataloader, tokenizer, dataset):\n",
    "    model.eval()\n",
    "    predictions, targets, confidences, lengths, texts, keywords = [], [], [], [], [], []\n",
    "\n",
    "    with torch.no_grad():\n",
    "        for batch in tqdm(eval_dataloader, desc=\"Evaluating\"):\n",
    "            # Move batch to device\n",
    "            batch = {k: v.to(device) for k, v in batch.items()}\n",
    "            \n",
    "            # Forward pass\n",
    "            outputs = model(**batch)\n",
    "            logits = outputs.logits\n",
    "            probs = F.softmax(logits, dim=-1)  # Convert logits to probabilities\n",
    "            \n",
    "            # Store predictions and confidence scores\n",
    "            pred_labels = logits.argmax(dim=-1).cpu().numpy()\n",
    "            true_labels = batch[\"labels\"].cpu().numpy()\n",
    "            confidence_scores = probs.max(dim=-1)[0].cpu().numpy()  # Highest softmax score\n",
    "            \n",
    "            # Store sequence lengths (count non-padding tokens)\n",
    "            input_lengths = (batch[\"input_ids\"] != tokenizer.pad_token_id).sum(dim=1).cpu().numpy()\n",
    "            \n",
    "            predictions.extend(pred_labels)\n",
    "            targets.extend(true_labels)\n",
    "            confidences.extend(confidence_scores)\n",
    "            lengths.extend(input_lengths)\n",
    "\n",
    "    # Create DataFrame with evaluation results\n",
    "    eval_df = pd.DataFrame({\n",
    "        \"text\": dataset[\"text\"],  # Raw text from dataset\n",
    "        \"true_label\": targets,\n",
    "        \"pred_label\": predictions,\n",
    "        \"confidence\": confidences,\n",
    "        \"length\": lengths,\n",
    "        \"keyword\": dataset[\"keyword\"] if \"keyword\" in dataset.columns else None,\n",
    "        \"orig_label\": dataset[\"orig_label\"] if \"orig_label\" in dataset.columns else None\n",
    "    })\n",
    "    \n",
    "    print(classification_report(targets, predictions))\n",
    "    \n",
    "    # Save to CSV\n",
    "    eval_df.to_csv(\"../models/saved_models/saved_model_outputs.csv\", index=False)\n",
    "    print(\"Results saved to saved_model_outputs.csv\")\n"
   ]
  },
  {
   "cell_type": "code",
   "execution_count": 75,
   "id": "f35359ac-8470-4806-841a-751f35c65574",
   "metadata": {},
   "outputs": [
    {
     "name": "stderr",
     "output_type": "stream",
     "text": [
      "Some weights of DebertaV2ForSequenceClassification were not initialized from the model checkpoint at microsoft/deberta-v3-small and are newly initialized: ['classifier.bias', 'classifier.weight', 'pooler.dense.bias', 'pooler.dense.weight']\n",
      "You should probably TRAIN this model on a down-stream task to be able to use it for predictions and inference.\n",
      "Evaluating: 100%|████████████████████████████████████████████████████████████████████| 262/262 [00:19<00:00, 13.23it/s]"
     ]
    },
    {
     "name": "stdout",
     "output_type": "stream",
     "text": [
      "              precision    recall  f1-score   support\n",
      "\n",
      "           0       0.95      0.96      0.96      1895\n",
      "           1       0.59      0.52      0.55       199\n",
      "\n",
      "    accuracy                           0.92      2094\n",
      "   macro avg       0.77      0.74      0.75      2094\n",
      "weighted avg       0.92      0.92      0.92      2094\n",
      "\n",
      "Results saved to saved_model_outputs.csv\n"
     ]
    },
    {
     "name": "stderr",
     "output_type": "stream",
     "text": [
      "\n"
     ]
    }
   ],
   "source": [
    "# Load the pretrained model \n",
    "model = AutoModelForSequenceClassification.from_pretrained(checkpoint, num_labels=2)\n",
    "model = model.to(device)\n",
    "\n",
    "load_model(model, \"deberta_with_preprocessing_and_synonym_replacement.pth\")\n",
    "\n",
    "# Load the test dataset\n",
    "test_dataloader = DataLoader(\n",
    "    tokenized_datasets_test, batch_size=8, collate_fn=data_collator\n",
    ")\n",
    "\n",
    "# Evaluate the model on the test set\n",
    "evaluate_and_save_results(model, test_dataloader, tokenizer, test_dataset)"
   ]
  },
  {
   "cell_type": "code",
   "execution_count": 76,
   "id": "d66368ad-75c5-441c-bbff-ee57ab9af7ab",
   "metadata": {},
   "outputs": [
    {
     "data": {
      "text/html": [
       "<div>\n",
       "<style scoped>\n",
       "    .dataframe tbody tr th:only-of-type {\n",
       "        vertical-align: middle;\n",
       "    }\n",
       "\n",
       "    .dataframe tbody tr th {\n",
       "        vertical-align: top;\n",
       "    }\n",
       "\n",
       "    .dataframe thead th {\n",
       "        text-align: right;\n",
       "    }\n",
       "</style>\n",
       "<table border=\"1\" class=\"dataframe\">\n",
       "  <thead>\n",
       "    <tr style=\"text-align: right;\">\n",
       "      <th></th>\n",
       "      <th>text</th>\n",
       "      <th>true_label</th>\n",
       "      <th>pred_label</th>\n",
       "      <th>confidence</th>\n",
       "      <th>length</th>\n",
       "      <th>keyword</th>\n",
       "      <th>orig_label</th>\n",
       "    </tr>\n",
       "  </thead>\n",
       "  <tbody>\n",
       "    <tr>\n",
       "      <th>0</th>\n",
       "      <td>His present \" chambers \" may be quite humble ,...</td>\n",
       "      <td>1</td>\n",
       "      <td>0</td>\n",
       "      <td>0.875130</td>\n",
       "      <td>80</td>\n",
       "      <td>homeless</td>\n",
       "      <td>3</td>\n",
       "    </tr>\n",
       "    <tr>\n",
       "      <th>1</th>\n",
       "      <td>Krueger recently harnessed that creativity to ...</td>\n",
       "      <td>1</td>\n",
       "      <td>0</td>\n",
       "      <td>0.579440</td>\n",
       "      <td>58</td>\n",
       "      <td>disabled</td>\n",
       "      <td>2</td>\n",
       "    </tr>\n",
       "    <tr>\n",
       "      <th>2</th>\n",
       "      <td>10:41am - Parents of children who died must ge...</td>\n",
       "      <td>1</td>\n",
       "      <td>0</td>\n",
       "      <td>0.592085</td>\n",
       "      <td>30</td>\n",
       "      <td>poor-families</td>\n",
       "      <td>3</td>\n",
       "    </tr>\n",
       "    <tr>\n",
       "      <th>3</th>\n",
       "      <td>When some people feel causing problem for some...</td>\n",
       "      <td>1</td>\n",
       "      <td>1</td>\n",
       "      <td>0.614998</td>\n",
       "      <td>110</td>\n",
       "      <td>disabled</td>\n",
       "      <td>4</td>\n",
       "    </tr>\n",
       "    <tr>\n",
       "      <th>4</th>\n",
       "      <td>We are alarmed to learn of your recently circu...</td>\n",
       "      <td>1</td>\n",
       "      <td>0</td>\n",
       "      <td>0.825851</td>\n",
       "      <td>108</td>\n",
       "      <td>poor-families</td>\n",
       "      <td>4</td>\n",
       "    </tr>\n",
       "  </tbody>\n",
       "</table>\n",
       "</div>"
      ],
      "text/plain": [
       "                                                text  true_label  pred_label  \\\n",
       "0  His present \" chambers \" may be quite humble ,...           1           0   \n",
       "1  Krueger recently harnessed that creativity to ...           1           0   \n",
       "2  10:41am - Parents of children who died must ge...           1           0   \n",
       "3  When some people feel causing problem for some...           1           1   \n",
       "4  We are alarmed to learn of your recently circu...           1           0   \n",
       "\n",
       "   confidence  length        keyword  orig_label  \n",
       "0    0.875130      80       homeless           3  \n",
       "1    0.579440      58       disabled           2  \n",
       "2    0.592085      30  poor-families           3  \n",
       "3    0.614998     110       disabled           4  \n",
       "4    0.825851     108  poor-families           4  "
      ]
     },
     "execution_count": 76,
     "metadata": {},
     "output_type": "execute_result"
    }
   ],
   "source": [
    "# Load saved results (modify file paths as needed)\n",
    "results = pd.read_csv(\"../models/saved_models/saved_model_outputs.csv\") \n",
    "\n",
    "results.head()"
   ]
  },
  {
   "cell_type": "code",
   "execution_count": 77,
   "id": "b7e33ef0-f9ee-4843-ab37-174beeb9c8f3",
   "metadata": {},
   "outputs": [
    {
     "name": "stderr",
     "output_type": "stream",
     "text": [
      "/tmp/ipykernel_386452/897589436.py:11: FutureWarning: \n",
      "\n",
      "Passing `palette` without assigning `hue` is deprecated and will be removed in v0.14.0. Assign the `x` variable to `hue` and set `legend=False` for the same effect.\n",
      "\n",
      "  ax = sns.barplot(x=accuracy_per_label[\"orig_label\"], y=accuracy_per_label[\"correct\"], palette=\"viridis\")\n"
     ]
    },
    {
     "data": {
      "image/png": "[encoded data removed]",
      "text/plain": [
       "<Figure size 800x500 with 1 Axes>"
      ]
     },
     "metadata": {},
     "output_type": "display_data"
    }
   ],
   "source": [
    "# 1. Model Performance vs. Patronizing Content Level\n",
    "\n",
    "# Compute accuracy per original label\n",
    "results[\"correct\"] = (results[\"true_label\"] == results[\"pred_label\"]).astype(int)\n",
    "\n",
    "# Group by `orig_label` and compute mean accuracy\n",
    "accuracy_per_label = results.groupby(\"orig_label\")[\"correct\"].mean().reset_index()\n",
    "\n",
    "# Plot the accuracy for each original label\n",
    "plt.figure(figsize=(8, 5))\n",
    "ax = sns.barplot(x=accuracy_per_label[\"orig_label\"], y=accuracy_per_label[\"correct\"], palette=\"viridis\")\n",
    "\n",
    "# Label the axes and title\n",
    "plt.xlabel(\"Original Label\")\n",
    "plt.ylabel(\"Accuracy\")\n",
    "plt.title(\"Model Accuracy for Each Original Patronizing Content Level\")\n",
    "plt.ylim(0, 1)  # Accuracy ranges from 0 to 1\n",
    "plt.xticks([0, 1, 2, 3, 4])  # Ensure all labels are shown\n",
    "\n",
    "for index, row in accuracy_per_label.iterrows():\n",
    "    ax.text(row[\"orig_label\"], row[\"correct\"] + 0.02, f\"{row['correct']:.2f}\", \n",
    "            ha='center', fontsize=12, fontweight='bold')\n",
    "\n",
    "# Show the plot\n",
    "plt.show()"
   ]
  },
  {
   "cell_type": "code",
   "execution_count": 78,
   "id": "3b4eb7c8-ca63-4827-9855-156796595d6a",
   "metadata": {},
   "outputs": [
    {
     "name": "stderr",
     "output_type": "stream",
     "text": [
      "/tmp/ipykernel_386452/4168874878.py:6: FutureWarning: The default of observed=False is deprecated and will be changed to True in a future version of pandas. Pass observed=False to retain current behavior or observed=True to adopt the future default and silence this warning.\n",
      "  accuracy_per_bin = results.groupby(\"length_bin\").apply(lambda x: accuracy_score(x[\"true_label\"], x[\"pred_label\"]))\n",
      "/vol/bitbucket/sg2121/nlp/NLP-CW/nlpenv/lib/python3.12/site-packages/numpy/lib/_function_base_impl.py:552: RuntimeWarning: Mean of empty slice.\n",
      "  avg = a.mean(axis, **keepdims_kw)\n",
      "/vol/bitbucket/sg2121/nlp/NLP-CW/nlpenv/lib/python3.12/site-packages/numpy/_core/_methods.py:145: RuntimeWarning: invalid value encountered in scalar divide\n",
      "  ret = ret.dtype.type(ret / rcount)\n",
      "/tmp/ipykernel_386452/4168874878.py:6: DeprecationWarning: DataFrameGroupBy.apply operated on the grouping columns. This behavior is deprecated, and in a future version of pandas the grouping columns will be excluded from the operation. Either pass `include_groups=False` to exclude the groupings or explicitly select the grouping columns after groupby to silence this warning.\n",
      "  accuracy_per_bin = results.groupby(\"length_bin\").apply(lambda x: accuracy_score(x[\"true_label\"], x[\"pred_label\"]))\n"
     ]
    },
    {
     "data": {
      "image/png": "[encoded data removed]",
      "text/plain": [
       "<Figure size 800x500 with 1 Axes>"
      ]
     },
     "metadata": {},
     "output_type": "display_data"
    }
   ],
   "source": [
    "# 2. Input Sequence Length vs. Accuracy\n",
    "bins = [0, 100, 200, 300, 400, 512]  # Define sequence length bins\n",
    "labels = ['<100', '100-200', '200-300', '300-400', '400-512']\n",
    "results[\"length_bin\"] = pd.cut(results[\"length\"], bins=bins, labels=labels)\n",
    "\n",
    "accuracy_per_bin = results.groupby(\"length_bin\").apply(lambda x: accuracy_score(x[\"true_label\"], x[\"pred_label\"]))\n",
    "\n",
    "plt.figure(figsize=(8, 5))\n",
    "accuracy_per_bin.plot(kind=\"bar\", color=\"skyblue\")\n",
    "plt.xlabel(\"Sequence Length\")\n",
    "plt.ylabel(\"Accuracy\")\n",
    "plt.title(\"Model Accuracy vs. Sequence Length\")\n",
    "plt.xticks(rotation=45)\n",
    "plt.show()"
   ]
  },
  {
   "cell_type": "code",
   "execution_count": 79,
   "id": "3a53d092-6ef0-4dfd-b670-4866b1390c14",
   "metadata": {},
   "outputs": [
    {
     "name": "stderr",
     "output_type": "stream",
     "text": [
      "/tmp/ipykernel_386452/306224055.py:2: DeprecationWarning: DataFrameGroupBy.apply operated on the grouping columns. This behavior is deprecated, and in a future version of pandas the grouping columns will be excluded from the operation. Either pass `include_groups=False` to exclude the groupings or explicitly select the grouping columns after groupby to silence this warning.\n",
      "  category_accuracy = results.groupby(\"keyword\").apply(lambda x: accuracy_score(x[\"true_label\"], x[\"pred_label\"]))\n"
     ]
    },
    {
     "data": {
      "image/png": "[encoded data removed]",
      "text/plain": [
       "<Figure size 1000x500 with 1 Axes>"
      ]
     },
     "metadata": {},
     "output_type": "display_data"
    }
   ],
   "source": [
    "# 3. Model Performance Across Data Categories\n",
    "category_accuracy = results.groupby(\"keyword\").apply(lambda x: accuracy_score(x[\"true_label\"], x[\"pred_label\"]))\n",
    "\n",
    "plt.figure(figsize=(10, 5))\n",
    "category_accuracy.sort_values().plot(kind=\"bar\", color=\"lightcoral\")\n",
    "plt.xlabel(\"Category (Keyword)\")\n",
    "plt.ylabel(\"Accuracy\")\n",
    "plt.title(\"Model Accuracy Across Data Categories\")\n",
    "plt.xticks(rotation=45)\n",
    "plt.show()\n"
   ]
  },
  {
   "cell_type": "code",
   "execution_count": null,
   "id": "849cc42b-3035-459d-a881-158e441b8d1a",
   "metadata": {},
   "outputs": [],
   "source": []
  }
 ],
 "metadata": {
  "kernelspec": {
   "display_name": "Python 3 (ipykernel)",
   "language": "python",
   "name": "python3"
  },
  "language_info": {
   "codemirror_mode": {
    "name": "ipython",
    "version": 3
   },
   "file_extension": ".py",
   "mimetype": "text/x-python",
   "name": "python",
   "nbconvert_exporter": "python",
   "pygments_lexer": "ipython3",
   "version": "3.12.3"
  }
 },
 "nbformat": 4,
 "nbformat_minor": 5
}
