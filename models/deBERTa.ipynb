{
 "cells": [
  {
   "cell_type": "code",
   "execution_count": 1,
   "metadata": {},
   "outputs": [],
   "source": [
    "# Some settings\n",
    "# Which pre-trained model to use.\n",
    "# See https://huggingface.co/models for options.\n",
    "checkpoint = \"microsoft/deberta-v3-small\"\n",
    "\n",
    "# How much training data to use.\n",
    "# 1.0 uses the whole training set but it can take a bit of time to train.\n",
    "train_data_sample_ratio = 0.1\n",
    "\n",
    "# Example sentence to use\n",
    "# We print out predictions for this sentence before and after training\n",
    "example_sentence = \"this was by far the best movie of the year\"\n",
    "     "
   ]
  },
  {
   "cell_type": "code",
   "execution_count": 25,
   "metadata": {},
   "outputs": [],
   "source": [
    "# Import the libraries\n",
    "import matplotlib.pyplot as plt\n",
    "import pickle\n",
    "import torch\n",
    "import evaluate\n",
    "\n",
    "from torch.utils.data import DataLoader\n",
    "from datasets import load_dataset, Dataset\n",
    "from transformers import AutoTokenizer, DataCollatorWithPadding\n",
    "from transformers import AdamW\n",
    "from transformers import AutoModelForSequenceClassification\n",
    "from transformers import get_scheduler\n",
    "from tqdm.auto import tqdm"
   ]
  },
  {
   "cell_type": "code",
   "execution_count": 3,
   "metadata": {},
   "outputs": [
    {
     "name": "stdout",
     "output_type": "stream",
     "text": [
      "cuda\n"
     ]
    }
   ],
   "source": [
    "# Checking whether you are running on CPU or GPU.\n",
    "# If the output here says \"cuda\" then it's running on GPU. Otherwise it's probably CPU.\n",
    "# In order to run your code in Colab on the GPU, go to Edit -> Notebook settings -> Hardware accelerator and set it to \"GPU\".\n",
    "device = torch.device(\"cuda\") if torch.cuda.is_available() else torch.device(\"cpu\")\n",
    "print(device)"
   ]
  },
  {
   "cell_type": "code",
   "execution_count": 4,
   "metadata": {},
   "outputs": [
    {
     "name": "stderr",
     "output_type": "stream",
     "text": [
      "Some weights of DebertaV2ForSequenceClassification were not initialized from the model checkpoint at microsoft/deberta-v3-small and are newly initialized: ['classifier.bias', 'classifier.weight', 'pooler.dense.bias', 'pooler.dense.weight']\n",
      "You should probably TRAIN this model on a down-stream task to be able to use it for predictions and inference.\n"
     ]
    }
   ],
   "source": [
    "# Loading the pretrained model\n",
    "model = AutoModelForSequenceClassification.from_pretrained(checkpoint, num_labels=2)\n",
    "model = model.to(device)"
   ]
  },
  {
   "cell_type": "code",
   "execution_count": 5,
   "metadata": {},
   "outputs": [],
   "source": [
    "import pandas as pd"
   ]
  },
  {
   "cell_type": "code",
   "execution_count": 6,
   "metadata": {},
   "outputs": [
    {
     "data": {
      "text/html": [
       "<div>\n",
       "<style scoped>\n",
       "    .dataframe tbody tr th:only-of-type {\n",
       "        vertical-align: middle;\n",
       "    }\n",
       "\n",
       "    .dataframe tbody tr th {\n",
       "        vertical-align: top;\n",
       "    }\n",
       "\n",
       "    .dataframe thead th {\n",
       "        text-align: right;\n",
       "    }\n",
       "</style>\n",
       "<table border=\"1\" class=\"dataframe\">\n",
       "  <thead>\n",
       "    <tr style=\"text-align: right;\">\n",
       "      <th></th>\n",
       "      <th>par_id</th>\n",
       "      <th>art_id</th>\n",
       "      <th>keyword</th>\n",
       "      <th>country</th>\n",
       "      <th>text</th>\n",
       "      <th>orig_label</th>\n",
       "    </tr>\n",
       "  </thead>\n",
       "  <tbody>\n",
       "    <tr>\n",
       "      <th>0</th>\n",
       "      <td>5825</td>\n",
       "      <td>@@9438566</td>\n",
       "      <td>in-need</td>\n",
       "      <td>au</td>\n",
       "      <td>Describing local police as under resourced and...</td>\n",
       "      <td>0</td>\n",
       "    </tr>\n",
       "    <tr>\n",
       "      <th>1</th>\n",
       "      <td>7171</td>\n",
       "      <td>@@1934487</td>\n",
       "      <td>hopeless</td>\n",
       "      <td>ng</td>\n",
       "      <td>The only force capable of stopping them is the...</td>\n",
       "      <td>3</td>\n",
       "    </tr>\n",
       "    <tr>\n",
       "      <th>2</th>\n",
       "      <td>680</td>\n",
       "      <td>@@9525972</td>\n",
       "      <td>in-need</td>\n",
       "      <td>nz</td>\n",
       "      <td>Plans by the Government to return to bulk fund...</td>\n",
       "      <td>0</td>\n",
       "    </tr>\n",
       "    <tr>\n",
       "      <th>3</th>\n",
       "      <td>4906</td>\n",
       "      <td>@@22596758</td>\n",
       "      <td>refugee</td>\n",
       "      <td>bd</td>\n",
       "      <td>New figures reveal that more than 48,000 Rohin...</td>\n",
       "      <td>0</td>\n",
       "    </tr>\n",
       "    <tr>\n",
       "      <th>4</th>\n",
       "      <td>8180</td>\n",
       "      <td>@@13717053</td>\n",
       "      <td>migrant</td>\n",
       "      <td>ph</td>\n",
       "      <td>He then listed several immigrants , mostly fro...</td>\n",
       "      <td>0</td>\n",
       "    </tr>\n",
       "  </tbody>\n",
       "</table>\n",
       "</div>"
      ],
      "text/plain": [
       "   par_id      art_id   keyword country  \\\n",
       "0    5825   @@9438566   in-need      au   \n",
       "1    7171   @@1934487  hopeless      ng   \n",
       "2     680   @@9525972   in-need      nz   \n",
       "3    4906  @@22596758   refugee      bd   \n",
       "4    8180  @@13717053   migrant      ph   \n",
       "\n",
       "                                                text  orig_label  \n",
       "0  Describing local police as under resourced and...           0  \n",
       "1  The only force capable of stopping them is the...           3  \n",
       "2  Plans by the Government to return to bulk fund...           0  \n",
       "3  New figures reveal that more than 48,000 Rohin...           0  \n",
       "4  He then listed several immigrants , mostly fro...           0  "
      ]
     },
     "execution_count": 6,
     "metadata": {},
     "output_type": "execute_result"
    }
   ],
   "source": [
    "train_dataset_path =\"../dataset/dpm_pcl_train.csv\"\n",
    "train_dataset = pd.read_csv(train_dataset_path)\n",
    "\n",
    "val_dataset_path =\"../dataset/dpm_pcl_val.csv\"\n",
    "val_dataset = pd.read_csv(val_dataset_path)\n",
    "\n",
    "test_dataset_path =\"../dataset/dpm_pcl_test.csv\"\n",
    "test_dataset = pd.read_csv(test_dataset_path)\n",
    "\n",
    "train_dataset.head()"
   ]
  },
  {
   "cell_type": "code",
   "execution_count": 7,
   "metadata": {},
   "outputs": [
    {
     "data": {
      "text/html": [
       "<div>\n",
       "<style scoped>\n",
       "    .dataframe tbody tr th:only-of-type {\n",
       "        vertical-align: middle;\n",
       "    }\n",
       "\n",
       "    .dataframe tbody tr th {\n",
       "        vertical-align: top;\n",
       "    }\n",
       "\n",
       "    .dataframe thead th {\n",
       "        text-align: right;\n",
       "    }\n",
       "</style>\n",
       "<table border=\"1\" class=\"dataframe\">\n",
       "  <thead>\n",
       "    <tr style=\"text-align: right;\">\n",
       "      <th></th>\n",
       "      <th>text</th>\n",
       "      <th>label</th>\n",
       "    </tr>\n",
       "  </thead>\n",
       "  <tbody>\n",
       "    <tr>\n",
       "      <th>0</th>\n",
       "      <td>Describing local police as under resourced and...</td>\n",
       "      <td>0</td>\n",
       "    </tr>\n",
       "    <tr>\n",
       "      <th>1</th>\n",
       "      <td>The only force capable of stopping them is the...</td>\n",
       "      <td>1</td>\n",
       "    </tr>\n",
       "    <tr>\n",
       "      <th>2</th>\n",
       "      <td>Plans by the Government to return to bulk fund...</td>\n",
       "      <td>0</td>\n",
       "    </tr>\n",
       "    <tr>\n",
       "      <th>3</th>\n",
       "      <td>New figures reveal that more than 48,000 Rohin...</td>\n",
       "      <td>0</td>\n",
       "    </tr>\n",
       "    <tr>\n",
       "      <th>4</th>\n",
       "      <td>He then listed several immigrants , mostly fro...</td>\n",
       "      <td>0</td>\n",
       "    </tr>\n",
       "  </tbody>\n",
       "</table>\n",
       "</div>"
      ],
      "text/plain": [
       "                                                text  label\n",
       "0  Describing local police as under resourced and...      0\n",
       "1  The only force capable of stopping them is the...      1\n",
       "2  Plans by the Government to return to bulk fund...      0\n",
       "3  New figures reveal that more than 48,000 Rohin...      0\n",
       "4  He then listed several immigrants , mostly fro...      0"
      ]
     },
     "execution_count": 7,
     "metadata": {},
     "output_type": "execute_result"
    }
   ],
   "source": [
    "train_dataset[\"label\"] = train_dataset[\"orig_label\"].apply(lambda x : 0 if (x == 0 or x == 1) else 1)\n",
    "val_dataset[\"label\"] = val_dataset[\"orig_label\"].apply(lambda x : 0 if (x == 0 or x == 1) else 1)\n",
    "test_dataset[\"label\"] = test_dataset[\"orig_label\"].apply(lambda x : 0 if (x == 0 or x == 1) else 1)\n",
    "\n",
    "train_dataset.loc[train_dataset[\"text\"].isna(), \"text\"] = \"\"\n",
    "val_dataset.loc[val_dataset[\"text\"].isna(), \"text\"] = \"\"\n",
    "test_dataset.loc[test_dataset[\"text\"].isna(), \"text\"] = \"\"\n",
    "\n",
    "train_dataset = train_dataset.drop(['par_id', 'art_id', 'keyword', 'country', 'orig_label'], axis=1)\n",
    "val_dataset = val_dataset.drop(['par_id', 'art_id', 'keyword', 'country', 'orig_label'], axis=1)\n",
    "test_dataset = test_dataset.drop(['par_id', 'art_id', 'keyword', 'country', 'orig_label'], axis=1)\n",
    "\n",
    "train_dataset.head()"
   ]
  },
  {
   "cell_type": "code",
   "execution_count": 8,
   "metadata": {},
   "outputs": [
    {
     "name": "stderr",
     "output_type": "stream",
     "text": [
      "/vol/bitbucket/gd221/nlp/NLP-CW/venv/lib/python3.12/site-packages/transformers/convert_slow_tokenizer.py:561: UserWarning: The sentencepiece tokenizer that you are converting to a fast tokenizer uses the byte fallback option which is not implemented in the fast tokenizers. In practice this means that the fast version of the tokenizer can produce unknown tokens whereas the sentencepiece version would have converted these unknown tokens into a sequence of byte tokens matching the original piece of text.\n",
      "  warnings.warn(\n",
      "Map: 100%|██████████| 6700/6700 [00:01<00:00, 3494.96 examples/s]\n",
      "Map: 100%|██████████| 1675/1675 [00:00<00:00, 3898.81 examples/s]\n",
      "Map: 100%|██████████| 2094/2094 [00:00<00:00, 3979.35 examples/s]\n"
     ]
    }
   ],
   "source": [
    "# Perform tokenization\n",
    "tokenizer = AutoTokenizer.from_pretrained(checkpoint, model_max_length=512)\n",
    "\n",
    "def tokenize_function(example):\n",
    "    return tokenizer(example[\"text\"], truncation=True, padding=\"max_length\", max_length=512)\n",
    "\n",
    "raw_datasets_train = Dataset.from_pandas(train_dataset[['text', 'label']])\n",
    "raw_datasets_val = Dataset.from_pandas(val_dataset[['text', 'label']])\n",
    "raw_datasets_test = Dataset.from_pandas(test_dataset[['text', 'label']])\n",
    "\n",
    "tokenized_datasets_train = raw_datasets_train.map(tokenize_function, batched=True, remove_columns=['text'])\n",
    "tokenized_datasets_val = raw_datasets_val.map(tokenize_function, batched=True, remove_columns=['text'])\n",
    "tokenized_datasets_test = raw_datasets_test.map(tokenize_function, batched=True, remove_columns=['text'])\n",
    "\n",
    "# DataCollatorWithPadding constructs batches that are padded to the length of the longest sentence in the batch\n",
    "data_collator = DataCollatorWithPadding(tokenizer=tokenizer)\n",
    "\n",
    "train_dataloader = DataLoader(\n",
    "    tokenized_datasets_train, shuffle=True, batch_size=8, collate_fn=data_collator\n",
    ")\n",
    "eval_dataloader = DataLoader(\n",
    "    tokenized_datasets_val, batch_size=8, collate_fn=data_collator\n",
    ")\n",
    "test_dataloader = DataLoader(\n",
    "    tokenized_datasets_test, batch_size=8, collate_fn=data_collator\n",
    ")\n"
   ]
  },
  {
   "cell_type": "code",
   "execution_count": 9,
   "metadata": {},
   "outputs": [
    {
     "data": {
      "text/plain": [
       "{'input_ids': tensor([[    1, 66194,   292,  ...,     0,     0,     0],\n",
       "        [    1,   512,   382,  ...,     0,     0,     0],\n",
       "        [    1,  1258,   265,  ...,     0,     0,     0],\n",
       "        ...,\n",
       "        [    1,   344,   299,  ...,     0,     0,     0],\n",
       "        [    1,   329,   326,  ...,     0,     0,     0],\n",
       "        [    1,   307,   879,  ...,     0,     0,     0]]), 'token_type_ids': tensor([[0, 0, 0,  ..., 0, 0, 0],\n",
       "        [0, 0, 0,  ..., 0, 0, 0],\n",
       "        [0, 0, 0,  ..., 0, 0, 0],\n",
       "        ...,\n",
       "        [0, 0, 0,  ..., 0, 0, 0],\n",
       "        [0, 0, 0,  ..., 0, 0, 0],\n",
       "        [0, 0, 0,  ..., 0, 0, 0]]), 'attention_mask': tensor([[1, 1, 1,  ..., 0, 0, 0],\n",
       "        [1, 1, 1,  ..., 0, 0, 0],\n",
       "        [1, 1, 1,  ..., 0, 0, 0],\n",
       "        ...,\n",
       "        [1, 1, 1,  ..., 0, 0, 0],\n",
       "        [1, 1, 1,  ..., 0, 0, 0],\n",
       "        [1, 1, 1,  ..., 0, 0, 0]]), 'labels': tensor([0, 0, 0, 0, 1, 0, 0, 0])}"
      ]
     },
     "execution_count": 9,
     "metadata": {},
     "output_type": "execute_result"
    }
   ],
   "source": [
    "next(iter(train_dataloader))"
   ]
  },
  {
   "cell_type": "code",
   "execution_count": 10,
   "metadata": {},
   "outputs": [
    {
     "name": "stdout",
     "output_type": "stream",
     "text": [
      "{'input_ids': torch.Size([8, 512]), 'token_type_ids': torch.Size([8, 512]), 'attention_mask': torch.Size([8, 512]), 'labels': torch.Size([8])}\n",
      "output.loss:  tensor(0.8246, device='cuda:0', grad_fn=<NllLossBackward0>)\n",
      "output.logits.shape:  torch.Size([8, 2])\n",
      "output.logits:  tensor([[-0.1926,  0.0512],\n",
      "        [-0.1955,  0.0574],\n",
      "        [-0.1920,  0.0496],\n",
      "        [-0.1950,  0.0539],\n",
      "        [-0.1930,  0.0525],\n",
      "        [-0.1944,  0.0534],\n",
      "        [-0.1957,  0.0593],\n",
      "        [-0.1950,  0.0503]], device='cuda:0', grad_fn=<AddmmBackward0>)\n",
      "[[0.43640986 0.5635901 ]]\n",
      "Example sentence:  this was by far the best movie of the year\n",
      "Predicted logits:  [[-0.19621426  0.05953109]]\n",
      "Predicted probabilities:  [[0.43640986 0.5635901 ]]\n",
      "Prediction:  positive\n"
     ]
    }
   ],
   "source": [
    "# Printing out the shapes in one batch\n",
    "example_batch = None\n",
    "for batch in train_dataloader:\n",
    "    example_batch = batch\n",
    "    break\n",
    "\n",
    "print({k: v.shape for k, v in example_batch.items()})\n",
    "\n",
    "\n",
    "# Then printing out the loss, output shape and output values from one batch.\n",
    "outputs = model(**example_batch.to(device))\n",
    "print(\"output.loss: \", outputs.loss)\n",
    "print(\"output.logits.shape: \", outputs.logits.shape)\n",
    "print(\"output.logits: \", outputs.logits)\n",
    "\n",
    "# Generating predictions for an example sentence.\n",
    "# Haven't trained the model yet so these will be random.\n",
    "def print_example_predictions(example_sentence, example_model):\n",
    "    _e = tokenize_function({\"text\": example_sentence})\n",
    "    _k = {k: torch.tensor([_e[k]]).to(device) for k in _e}\n",
    "    model.eval()\n",
    "    example_outputs = model(**_k)\n",
    "    example_logits = example_outputs.logits.cpu().detach().numpy()\n",
    "    example_probabilities = torch.nn.functional.softmax(example_outputs.logits, dim=1).cpu().detach().numpy()\n",
    "    print(example_probabilities)\n",
    "    print(\"Example sentence: \", example_sentence)\n",
    "    print(\"Predicted logits: \", example_logits)\n",
    "    print(\"Predicted probabilities: \", example_probabilities)\n",
    "    print(\"Prediction: \", \"negative\" if example_probabilities[0][0] > example_probabilities[0][1] else \"positive\")\n",
    "\n",
    "print_example_predictions(example_sentence, model)"
   ]
  },
  {
   "cell_type": "code",
   "execution_count": 19,
   "metadata": {},
   "outputs": [
    {
     "name": "stderr",
     "output_type": "stream",
     "text": [
      "/vol/bitbucket/gd221/nlp/NLP-CW/venv/lib/python3.12/site-packages/transformers/optimization.py:640: FutureWarning: This implementation of AdamW is deprecated and will be removed in a future version. Use the PyTorch implementation torch.optim.AdamW instead, or set `no_deprecation_warning=True` to disable this warning\n",
      "  warnings.warn(\n"
     ]
    }
   ],
   "source": [
    "# Setting up model training for fine-tuning\n",
    "lr = 5e-5\n",
    "optimizer = AdamW(model.parameters(), lr=lr)\n",
    "\n",
    "num_epochs = 3\n",
    "num_training_steps = num_epochs * len(train_dataloader)\n",
    "lr_scheduler = get_scheduler(\n",
    "    \"linear\",\n",
    "    optimizer=optimizer,\n",
    "    num_warmup_steps=0,\n",
    "    num_training_steps=num_training_steps,\n",
    ")"
   ]
  },
  {
   "cell_type": "code",
   "execution_count": 12,
   "metadata": {},
   "outputs": [
    {
     "name": "stderr",
     "output_type": "stream",
     "text": [
      " 33%|███▎      | 839/2514 [03:09<2:19:32,  5.00s/it]"
     ]
    },
    {
     "name": "stdout",
     "output_type": "stream",
     "text": [
      "Epoch 1: train_loss = 0.0344521298767554, val_loss = 0.031961599982051704\n"
     ]
    },
    {
     "name": "stderr",
     "output_type": "stream",
     "text": [
      " 67%|██████▋   | 1677/2514 [06:21<1:10:39,  5.07s/it]"
     ]
    },
    {
     "name": "stdout",
     "output_type": "stream",
     "text": [
      "Epoch 2: train_loss = 0.023378431369835483, val_loss = 0.030918887265360177\n"
     ]
    },
    {
     "name": "stderr",
     "output_type": "stream",
     "text": [
      "100%|██████████| 2514/2514 [09:18<00:00,  5.20it/s]  "
     ]
    },
    {
     "name": "stdout",
     "output_type": "stream",
     "text": [
      "Epoch 3: train_loss = 0.012931890467411158, val_loss = 0.027914143513971524\n"
     ]
    }
   ],
   "source": [
    "train_losses, val_losses = [], []\n",
    "\n",
    "# Running the training\n",
    "progress_bar = tqdm(range(num_training_steps))\n",
    "for epoch in range(num_epochs):\n",
    "    train_loss, val_loss = 0, 0\n",
    "    \n",
    "    # Setting the model to training mode\n",
    "    model.train()\n",
    "    \n",
    "    for batch in train_dataloader:\n",
    "        # Move batch to device\n",
    "        batch = {k: v.to(device) for k, v in batch.items()}\n",
    "        outputs = model(**batch)\n",
    "        loss = outputs.loss\n",
    "        train_loss += loss.item()\n",
    "        loss.backward()\n",
    "\n",
    "        optimizer.step()\n",
    "        lr_scheduler.step()\n",
    "        optimizer.zero_grad()\n",
    "        progress_bar.update(1)\n",
    "    \n",
    "    train_loss /= len(train_dataloader.dataset)\n",
    "    train_losses.append(train_loss)\n",
    "    \n",
    "    # Setting the model to evaluation mode\n",
    "    model.eval()\n",
    "    \n",
    "    for batch in eval_dataloader:\n",
    "        # Move batch to device\n",
    "        batch = {k: v.to(device) for k, v in batch.items()}\n",
    "        with torch.no_grad():\n",
    "            outputs = model(**batch)\n",
    "            loss = outputs.loss\n",
    "            val_loss += loss.item()\n",
    "    \n",
    "    val_loss /= len(eval_dataloader.dataset)\n",
    "    val_losses.append(val_loss)\n",
    "    \n",
    "    print(f\"Epoch {epoch + 1}: train_loss = {train_loss}, val_loss = {val_loss}\")"
   ]
  },
  {
   "cell_type": "code",
   "execution_count": 23,
   "metadata": {},
   "outputs": [],
   "source": [
    "# Plots the training and validation losses\n",
    "def plot_train_val_losses(train_losses, val_losses, num_epochs, lr):\n",
    "    plt.figure(figsize=(12, 6))\n",
    "    plt.plot(train_losses, label=\"train loss\")\n",
    "    plt.plot(val_losses, label=\"validation loss\")\n",
    "    plt.xlabel(\"Epoch\")\n",
    "    plt.ylabel(\"Loss\")\n",
    "    plt.legend()\n",
    "    plt.title(f\"Number epochs: {num_epochs}, lr: {lr}\")\n",
    "    plt.grid()\n",
    "    plt.show()\n",
    "    \n",
    "# Save the model's state\n",
    "def save_model(model, filename):\n",
    "    model_dir = \"./models/\"\n",
    "    with torch.no_grad():\n",
    "        torch.save(model.state_dict(), model_dir + filename)\n",
    "    \n",
    "# Save the model hyperparameters and losses for later comparison\n",
    "def "
   ]
  },
  {
   "cell_type": "code",
   "execution_count": 24,
   "metadata": {},
   "outputs": [
    {
     "data": {
      "image/png": "[encoded data removed]",
      "text/plain": [
       "<Figure size 1200x600 with 1 Axes>"
      ]
     },
     "metadata": {},
     "output_type": "display_data"
    }
   ],
   "source": [
    "plot_train_val_losses(train_losses, val_losses, num_epochs, lr)\n",
    "save_losses(train_losses, val_losses, )"
   ]
  },
  {
   "cell_type": "code",
   "execution_count": 14,
   "metadata": {},
   "outputs": [
    {
     "name": "stdout",
     "output_type": "stream",
     "text": [
      "{'f1': 0.5100286532951289}\n"
     ]
    }
   ],
   "source": [
    "# Setting the model to evaluation mode\n",
    "model.eval()\n",
    "\n",
    "# Running evaluation\n",
    "metric = evaluate.load(\"f1\")\n",
    "for batch in tqdm(test_dataloader):\n",
    "    batch = {k: v.to(device) for k, v in batch.items()}\n",
    "    with torch.no_grad():\n",
    "        outputs = model(**batch)\n",
    "\n",
    "    logits = outputs.logits\n",
    "    predictions = torch.argmax(logits, dim=-1)\n",
    "    metric.add_batch(predictions=predictions, references=batch[\"labels\"])\n",
    "\n",
    "print(metric.compute())"
   ]
  },
  {
   "cell_type": "code",
   "execution_count": 16,
   "metadata": {},
   "outputs": [
    {
     "name": "stdout",
     "output_type": "stream",
     "text": [
      "[[0.9951402  0.00485979]]\n",
      "Example sentence:  this was by far the best movie of the year\n",
      "Predicted logits:  [[ 2.9714403 -2.3504477]]\n",
      "Predicted probabilities:  [[0.9951402  0.00485979]]\n",
      "Prediction:  negative\n"
     ]
    }
   ],
   "source": [
    "# Getting predictions for the example sentence again, now that we have trained the model\n",
    "print_example_predictions(example_sentence, model)"
   ]
  },
  {
   "cell_type": "code",
   "execution_count": null,
   "metadata": {},
   "outputs": [],
   "source": []
  }
 ],
 "metadata": {
  "kernelspec": {
   "display_name": "venv",
   "language": "python",
   "name": "python3"
  },
  "language_info": {
   "codemirror_mode": {
    "name": "ipython",
    "version": 3
   },
   "file_extension": ".py",
   "mimetype": "text/x-python",
   "name": "python",
   "nbconvert_exporter": "python",
   "pygments_lexer": "ipython3",
   "version": "3.12.3"
  }
 },
 "nbformat": 4,
 "nbformat_minor": 4
}
