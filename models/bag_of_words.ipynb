{
 "cells": [
  {
   "cell_type": "markdown",
   "metadata": {},
   "source": [
    "## Bag of Words (Simple Baseline Model)"
   ]
  },
  {
   "cell_type": "code",
   "execution_count": null,
   "metadata": {
    "vscode": {
     "languageId": "plaintext"
    }
   },
   "outputs": [],
   "source": [
    "import pandas as pd\n",
    "from sklearn.feature_extraction.text import CountVectorizer\n",
    "from sklearn.linear_model import LogisticRegression\n",
    "from sklearn.metrics import classification_report, f1_score"
   ]
  },
  {
   "cell_type": "code",
   "execution_count": null,
   "metadata": {
    "vscode": {
     "languageId": "plaintext"
    }
   },
   "outputs": [],
   "source": [
    "# Load datasets\n",
    "train_dataset = pd.read_csv(\"../dataset/dpm_pcl_train.csv\")\n",
    "val_dataset = pd.read_csv(\"../dataset/dpm_pcl_val.csv\")\n",
    "test_dataset = pd.read_csv(\"../dataset/dpm_pcl_test.csv\")\n",
    "\n",
    "# Preprocess labels\n",
    "label_mapping = lambda x: 0 if (x == 0 or x == 1) else 1\n",
    "train_dataset[\"label\"] = train_dataset[\"orig_label\"].apply(label_mapping)\n",
    "val_dataset[\"label\"] = val_dataset[\"orig_label\"].apply(label_mapping)\n",
    "test_dataset[\"label\"] = test_dataset[\"orig_label\"].apply(label_mapping)\n",
    "\n",
    "# Handle missing values\n",
    "train_dataset[\"text\"].fillna(\"\", inplace=True)\n",
    "val_dataset[\"text\"].fillna(\"\", inplace=True)\n",
    "test_dataset[\"text\"].fillna(\"\", inplace=True)"
   ]
  },
  {
   "cell_type": "code",
   "execution_count": null,
   "metadata": {
    "vscode": {
     "languageId": "plaintext"
    }
   },
   "outputs": [],
   "source": [
    "# Extract features using BoW\n",
    "vectorizer = CountVectorizer(max_features=5000)\n",
    "X_train = vectorizer.fit_transform(train_dataset[\"text\"])\n",
    "X_val = vectorizer.transform(val_dataset[\"text\"])\n",
    "X_test = vectorizer.transform(test_dataset[\"text\"])\n",
    "\n",
    "y_train = train_dataset[\"label\"]\n",
    "y_val = val_dataset[\"label\"]\n",
    "y_test = test_dataset[\"label\"]"
   ]
  },
  {
   "cell_type": "code",
   "execution_count": null,
   "metadata": {
    "vscode": {
     "languageId": "plaintext"
    }
   },
   "outputs": [],
   "source": [
    "# Train a logistic regression classifier\n",
    "clf = LogisticRegression(max_iter=500)\n",
    "clf.fit(X_train, y_train)"
   ]
  },
  {
   "cell_type": "code",
   "execution_count": null,
   "metadata": {
    "vscode": {
     "languageId": "plaintext"
    }
   },
   "outputs": [],
   "source": [
    "# Evaluate on validation set\n",
    "val_preds = clf.predict(X_val)\n",
    "print(\"Validation Performance:\")\n",
    "print(classification_report(y_val, val_preds, digits=4))\n",
    "\n",
    "# Evaluate on test set\n",
    "test_preds = clf.predict(X_test)\n",
    "print(\"Test Performance:\")\n",
    "print(classification_report(y_test, test_preds, digits=4))\n",
    "\n",
    "# Calculate F1 scores explicitly\n",
    "val_f1 = f1_score(y_val, val_preds)\n",
    "test_f1 = f1_score(y_test, test_preds)\n",
    "print(f\"Validation F1 Score: {val_f1:.4f}\")\n",
    "print(f\"Test F1 Score: {test_f1:.4f}\")"
   ]
  }
 ],
 "metadata": {
  "language_info": {
   "name": "python"
  }
 },
 "nbformat": 4,
 "nbformat_minor": 2
}
